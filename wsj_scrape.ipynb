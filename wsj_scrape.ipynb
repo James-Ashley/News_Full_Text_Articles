{
 "cells": [
  {
   "cell_type": "code",
   "execution_count": 1,
   "metadata": {},
   "outputs": [],
   "source": [
    "from bs4 import BeautifulSoup\n",
    "import html\n",
    "from splinter import Browser\n",
    "import pandas as pd\n",
    "import time"
   ]
  },
  {
   "cell_type": "code",
   "execution_count": 2,
   "metadata": {},
   "outputs": [],
   "source": [
    "executable_path = {'executable_path': 'chromedriver.exe'}\n",
    "browser = Browser('chrome', **executable_path, headless=False)"
   ]
  },
  {
   "cell_type": "code",
   "execution_count": 3,
   "metadata": {},
   "outputs": [],
   "source": [
    "url = 'https://www.wsj.com/articles/covid-upends-a-rural-hospital-where-staff-know-all-the-patients-11606057908?mod=hp_lead_pos7'\n",
    "browser.visit(url)"
   ]
  },
  {
   "cell_type": "code",
   "execution_count": 4,
   "metadata": {},
   "outputs": [],
   "source": [
    "html = browser.html"
   ]
  },
  {
   "cell_type": "code",
   "execution_count": 5,
   "metadata": {},
   "outputs": [],
   "source": [
    "soup = BeautifulSoup(html, 'html.parser')"
   ]
  },
  {
   "cell_type": "code",
   "execution_count": 6,
   "metadata": {},
   "outputs": [],
   "source": [
    "x = soup.find_all('p', class_=False)"
   ]
  },
  {
   "cell_type": "code",
   "execution_count": 7,
   "metadata": {},
   "outputs": [
    {
     "name": "stdout",
     "output_type": "stream",
     "text": [
      "https://www.wsj.com/articles/covid-upends-a-rural-hospital-where-staff-know-all-the-patients-11606057908\n",
      "CROW AGENCY, Mont.—Nursing assistant Becky Long Warrior shuttled between the two hospital rooms. Both housed family members stricken with Covid-19. \n",
      "In one room, her grandmother stared up at her through a large oxygen mask as Ms. Long Warrior gently squeezed her shoulder and told her to rest.\n",
      "Next door, Ms. Long Warrior checked in on her uncle,...\n",
      "    \n",
      "\n",
      "Already a member?\n",
      "\n",
      "         Sign in\n",
      "       \n",
      "\n",
      "Please verify your email address.\n",
      "\n",
      "Already a member?\n",
      "\n",
      "         Sign in\n",
      "       \n",
      "\n",
      "\n",
      "Already a member?\n",
      "\n",
      "         Sign in\n",
      "       \n",
      "\n",
      "\n",
      "Already a member?\n",
      "\n",
      "         Sign in\n",
      "       \n",
      "\n"
     ]
    }
   ],
   "source": [
    "for line in x:\n",
    "    print(line.text)"
   ]
  },
  {
   "cell_type": "code",
   "execution_count": null,
   "metadata": {},
   "outputs": [],
   "source": []
  }
 ],
 "metadata": {
  "kernelspec": {
   "display_name": "Python [conda env:PythonData] *",
   "language": "python",
   "name": "conda-env-PythonData-py"
  },
  "language_info": {
   "codemirror_mode": {
    "name": "ipython",
    "version": 3
   },
   "file_extension": ".py",
   "mimetype": "text/x-python",
   "name": "python",
   "nbconvert_exporter": "python",
   "pygments_lexer": "ipython3",
   "version": "3.6.10"
  }
 },
 "nbformat": 4,
 "nbformat_minor": 4
}
