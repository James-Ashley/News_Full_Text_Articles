{
 "cells": [
  {
   "cell_type": "code",
   "execution_count": 1,
   "metadata": {},
   "outputs": [],
   "source": [
    "from bs4 import BeautifulSoup\n",
    "import html\n",
    "from splinter import Browser\n",
    "import pandas as pd\n",
    "import time"
   ]
  },
  {
   "cell_type": "code",
   "execution_count": 2,
   "metadata": {},
   "outputs": [],
   "source": [
    "executable_path = {'executable_path': 'chromedriver.exe'}\n",
    "browser = Browser('chrome', **executable_path, headless=False)"
   ]
  },
  {
   "cell_type": "code",
   "execution_count": 7,
   "metadata": {},
   "outputs": [],
   "source": [
    "url = 'https://www.buzzfeednews.com/article/tasneemnashrulla/ted-cruz-thanksgiving-covid-meme-tweet'\n",
    "browser.visit(url)"
   ]
  },
  {
   "cell_type": "code",
   "execution_count": 8,
   "metadata": {},
   "outputs": [],
   "source": [
    "html = browser.html"
   ]
  },
  {
   "cell_type": "code",
   "execution_count": 9,
   "metadata": {},
   "outputs": [],
   "source": [
    "soup = BeautifulSoup(html, 'html.parser')"
   ]
  },
  {
   "cell_type": "code",
   "execution_count": 10,
   "metadata": {},
   "outputs": [
    {
     "name": "stdout",
     "output_type": "stream",
     "text": [
      "Ted Cruz\n",
      "Texas Sen. Ted Cruz was criticized over the weekend for tweeting a tone-deaf Thanksgiving meme while morgues in the state overflowed with COVID victims and thousands affected by the pandemic lined up outside a food bank.\n",
      "Instead of addressing the rising COVID cases in his state, Cruz on Saturday chose to tweet a \"war on Thanksgiving\" meme — the latest attempt by conservatives and right-wing figures to engage in a culture war over the pandemic which has killed more than 250,000 Americans.\n",
      "Cruz tweeted an illustration of a turkey with the words \"come and take it,\" ostensibly daring someone to stop him from celebrating Thanksgiving.\n",
      "The CDC strongly advised people against traveling for Thanksgiving and public health professionals have suggested limiting indoor celebrations to residents of the same household, citing an alarming rise in COVID-19 cases nationwide.\n",
      "This has prompted several conservative and right-wing figures to publicly reject these life-saving measures and misrepresent them as a left-wing attempt to \"cancel\" Thanksgiving altogether.\n",
      "People immediately slammed Cruz for the tweet. Many pointed out that his tweet came two days after Texas National Guard troops were deployed to El Paso to help morgues overwhelmed with COVID victims as hospitalizations and deaths surged in the county.\n",
      "Earlier this week, El Paso County officials sent out a plea requesting for additional morgue workers to help with the rise in COVID fatalities, prompting the county's use of jail inmates to help transport bodies of victims.\n",
      "A low-level inmate from El Paso County detention facility prepares to load bodies into a refrigerated temporary morgue trailer in a parking lot of the El Paso County Medical Examiner's office.\n",
      "Others, including Democratic congresswoman-elect Cori Bush, slammed Cruz for focusing on his Thanksgiving celebrations, while ignoring thousands of Texans hard-hit by the pandemic who were waiting in an hours-long line outside a Dallas food bank last week.\n",
      "Some said that politicians who were more interested in trolling than governing were responsible for the more than 250,000 COVID deaths in the US.\n",
      "Others just put it a little more bluntly.\n",
      "\n",
      "Oops\n",
      "Looks like your browser doesn't support JavaScript.\n"
     ]
    }
   ],
   "source": [
    "text = soup.find_all('p', class_=False)\n",
    "for x in text:\n",
    "    print(x.text)"
   ]
  },
  {
   "cell_type": "code",
   "execution_count": null,
   "metadata": {},
   "outputs": [],
   "source": []
  }
 ],
 "metadata": {
  "kernelspec": {
   "display_name": "Python [conda env:PythonData] *",
   "language": "python",
   "name": "conda-env-PythonData-py"
  },
  "language_info": {
   "codemirror_mode": {
    "name": "ipython",
    "version": 3
   },
   "file_extension": ".py",
   "mimetype": "text/x-python",
   "name": "python",
   "nbconvert_exporter": "python",
   "pygments_lexer": "ipython3",
   "version": "3.6.10"
  }
 },
 "nbformat": 4,
 "nbformat_minor": 4
}
